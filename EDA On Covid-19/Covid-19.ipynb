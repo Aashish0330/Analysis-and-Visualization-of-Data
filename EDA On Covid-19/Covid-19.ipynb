{
 "cells": [
  {
   "cell_type": "markdown",
   "metadata": {},
   "source": [
    "# Covid-19 Exploratory Data Analysis"
   ]
  },
  {
   "cell_type": "markdown",
   "metadata": {},
   "source": [
    "## Covid-19 Dataset Understanding"
   ]
  },
  {
   "cell_type": "code",
   "execution_count": null,
   "metadata": {},
   "outputs": [],
   "source": [
    "#!pip install folium"
   ]
  },
  {
   "cell_type": "code",
   "execution_count": null,
   "metadata": {},
   "outputs": [],
   "source": [
    "!pip install plotly"
   ]
  },
  {
   "cell_type": "code",
   "execution_count": null,
   "metadata": {},
   "outputs": [],
   "source": [
    "import plotly.express as px\n",
    "import plotly.graph_objects as go\n",
    "import plotly.figure_factory as ff\n",
    "from plotly.subplots import make_subplots\n",
    "\n",
    "import folium\n",
    "import pandas as pd\n",
    "import numpy as np\n",
    "import matplotlib.pyplot as plt\n",
    "\n",
    "%matplotlib inline\n",
    "\n",
    "import math\n",
    "import random \n",
    "from datetime import timedelta\n",
    "\n",
    "import warnings\n",
    "warnings.filterwarnings('ignore')\n",
    "\n",
    "#color pallette\n",
    "cnf = \"#393e46\"\n",
    "dth = \"#ff2e63\"\n",
    "rec = \"#21bf73\"\n",
    "act = \"#fe9801\""
   ]
  },
  {
   "cell_type": "markdown",
   "metadata": {},
   "source": [
    "# Data Preparation"
   ]
  },
  {
   "cell_type": "code",
   "execution_count": null,
   "metadata": {},
   "outputs": [],
   "source": [
    "import plotly as py\n",
    "py.offline.init_notebook_mode(connected=True)"
   ]
  },
  {
   "cell_type": "code",
   "execution_count": null,
   "metadata": {},
   "outputs": [],
   "source": [
    "df = pd.read_csv('covid_19_data_cleaned.csv',parse_dates=['Date'])\n",
    "\n",
    "country_daywise = pd.read_csv('country_daywise.csv',parse_dates=['Date'])\n",
    "countrywise = pd.read_csv('countrywise.csv')\n",
    "daywise = pd.read_csv('daywise.csv',parse_dates=['Date'])\n"
   ]
  },
  {
   "cell_type": "code",
   "execution_count": null,
   "metadata": {},
   "outputs": [],
   "source": [
    "df['Province/State'] = df['Province/State'].fillna(\"\")\n",
    "df.head()"
   ]
  },
  {
   "cell_type": "code",
   "execution_count": null,
   "metadata": {},
   "outputs": [],
   "source": [
    "countrywise"
   ]
  },
  {
   "cell_type": "code",
   "execution_count": null,
   "metadata": {},
   "outputs": [],
   "source": [
    "confirmed = df.groupby('Date').sum()['Confirmed'].reset_index()"
   ]
  },
  {
   "cell_type": "code",
   "execution_count": null,
   "metadata": {},
   "outputs": [],
   "source": [
    "confirmed"
   ]
  },
  {
   "cell_type": "code",
   "execution_count": null,
   "metadata": {},
   "outputs": [],
   "source": [
    "recovered = df.groupby('Date').sum()['Recovered'].reset_index()\n",
    "deaths = df.groupby('Date').sum()['Deaths'].reset_index()"
   ]
  },
  {
   "cell_type": "code",
   "execution_count": null,
   "metadata": {},
   "outputs": [],
   "source": [
    "df.isnull().sum()"
   ]
  },
  {
   "cell_type": "code",
   "execution_count": null,
   "metadata": {},
   "outputs": [],
   "source": [
    "df.info()"
   ]
  },
  {
   "cell_type": "code",
   "execution_count": null,
   "metadata": {},
   "outputs": [],
   "source": [
    "df.query('Country== \"US\"')"
   ]
  },
  {
   "cell_type": "code",
   "execution_count": null,
   "metadata": {},
   "outputs": [],
   "source": [
    "recovered.tail()"
   ]
  },
  {
   "cell_type": "code",
   "execution_count": null,
   "metadata": {},
   "outputs": [],
   "source": [
    "deaths.tail()"
   ]
  },
  {
   "cell_type": "code",
   "execution_count": null,
   "metadata": {
    "scrolled": true
   },
   "outputs": [],
   "source": [
    "fig = go.Figure()\n",
    "fig.add_trace(go.Scatter(x=confirmed['Date'],y=confirmed['Confirmed'],\n",
    "              mode = 'lines + markers',name = 'Confirmed',line = dict(color='Orange'\n",
    "                                                                ,width=2)))\n",
    "\n",
    "fig.add_trace(go.Scatter(x=recovered['Date'],y=recovered['Recovered'],\n",
    "              mode = 'lines + markers',name = 'Recovered',line = dict(color='Green'\n",
    "                                                                     ,width=2)))\n",
    "fig.add_trace(go.Scatter(x=deaths['Date'],y=deaths['Deaths'],\n",
    "              mode = 'lines + markers',name = 'Deaths',line = dict(color='Blue'\n",
    "                                                                     ,width=2)))\n",
    "fig.update_layout(title='Worldwide Covid-19 Cases')\n",
    "fig.show()"
   ]
  },
  {
   "cell_type": "markdown",
   "metadata": {},
   "source": [
    "# Cases Density Animation on World Map"
   ]
  },
  {
   "cell_type": "code",
   "execution_count": null,
   "metadata": {},
   "outputs": [],
   "source": [
    "df.info()"
   ]
  },
  {
   "cell_type": "code",
   "execution_count": null,
   "metadata": {},
   "outputs": [],
   "source": [
    "df['Date'] = df['Date'].astype(str)"
   ]
  },
  {
   "cell_type": "code",
   "execution_count": null,
   "metadata": {},
   "outputs": [],
   "source": [
    "fig = px.density_mapbox(df,lat='Lat',lon='Long',hover_name='Country',\n",
    "                       hover_data = ['Confirmed','Recovered','Deaths'],\n",
    "                       animation_frame = 'Date',color_continuous_scale='Portland',\n",
    "                       radius=7,zoom=0,height=500)\n",
    "fig.update_layout(title='Worldwide Covid-19 Cases with Time Laps')\n",
    "fig.update_layout(mapbox_style='open-street-map',mapbox_center_lon=0)\n",
    "fig.show()"
   ]
  },
  {
   "cell_type": "markdown",
   "metadata": {},
   "source": [
    "# Total Cases on Ships"
   ]
  },
  {
   "cell_type": "code",
   "execution_count": null,
   "metadata": {},
   "outputs": [],
   "source": [
    "df['Date'] = pd.to_datetime(df['Date'])"
   ]
  },
  {
   "cell_type": "code",
   "execution_count": null,
   "metadata": {},
   "outputs": [],
   "source": [
    "ship_rows = df['Province/State'].str.contains('Grand Princess')\n",
    "df[ship_rows]"
   ]
  },
  {
   "cell_type": "markdown",
   "metadata": {},
   "source": [
    "# Cases Over the Time with Area Plot"
   ]
  },
  {
   "cell_type": "code",
   "execution_count": null,
   "metadata": {},
   "outputs": [],
   "source": [
    "temp = df.groupby('Date')['Confirmed', 'Deaths', 'Recovered', 'Active'].sum().reset_index()\n",
    "temp = temp[temp['Date']==max(temp['Date'])].reset_index(drop = True)\n",
    "\n",
    "tm = temp.melt(id_vars = 'Date', value_vars = ['Active', 'Deaths', 'Recovered'])\n",
    "fig = px.treemap(tm, path = ['variable'], values = 'value', height = 250, width = 800, color_discrete_sequence=[act, rec, dth])\n",
    "\n",
    "fig.data[0].textinfo = 'label+text+value'\n",
    "fig.show()"
   ]
  },
  {
   "cell_type": "code",
   "execution_count": null,
   "metadata": {},
   "outputs": [],
   "source": [
    "temp = df.groupby('Date')['Recovered','Deaths','Active'].sum().reset_index()\n",
    "temp = temp.melt(id_vars = 'Date',value_vars = ['Recovered','Deaths','Active'],\n",
    "                var_name = 'Case',value_name = 'Count')\n",
    "fig = px.area(temp,x='Date',y='Count',color='Case',height = 600,title = 'Cases over time',\n",
    "             color_discrete_sequence = [rec,dth,act])\n",
    "fig.update_layout(xaxis_rangeslider_visible=True)\n",
    "fig.show()"
   ]
  },
  {
   "cell_type": "markdown",
   "metadata": {},
   "source": [
    "# Folium Maps"
   ]
  },
  {
   "cell_type": "code",
   "execution_count": null,
   "metadata": {},
   "outputs": [],
   "source": [
    "temp = df[df['Date']==max(df['Date'])]\n",
    "\n",
    "m = folium.Map(location=[0,0],tiles='cartodbpositron',min_zoom=1,max_zoom=4,\n",
    "              zoom_start=1)\n",
    "for i in range(0,len(temp)):\n",
    "    folium.Circle(location=[temp.iloc[i]['Lat'],temp.iloc[i]['Long']],\n",
    "                  color='crimson',fill='crimson',\n",
    "                  tooltip = '<li><bold> Country: '+str(temp.iloc[i]['Country'])+\n",
    "                 '<li><bold> Province: '+str(temp.iloc[i]['Province/State'])+\n",
    "                 '<li><bold> Confirmed: '+str(temp.iloc[i]['Confirmed'])+\n",
    "                 '<li><bold> Deaths: '+str(temp.iloc[i]['Deaths']),\n",
    "                 radius = int(temp.iloc[i]['Confirmed'])*0.5).add_to(m)\n",
    "m"
   ]
  },
  {
   "cell_type": "markdown",
   "metadata": {},
   "source": [
    "# Confirmed Cases with Choropleth Map"
   ]
  },
  {
   "cell_type": "code",
   "execution_count": null,
   "metadata": {},
   "outputs": [],
   "source": [
    "fig = px.choropleth(country_daywise,locations = 'Country',\n",
    "                     locationmode='country names',\n",
    "color=np.log(country_daywise['Confirmed']),hover_name='Country',\n",
    "                     animation_frame=country_daywise['Date'].\n",
    "                     dt.strftime('%Y-%m-%d'),title='Cases over time',\n",
    "                    color_continuous_scale=px.colors.sequential.Inferno)\n",
    "fig.update(layout_coloraxis_showscale=True)\n",
    "fig.show()"
   ]
  },
  {
   "cell_type": "markdown",
   "metadata": {},
   "source": [
    "# Deaths and Recoveries per 100 Cases"
   ]
  },
  {
   "cell_type": "code",
   "execution_count": null,
   "metadata": {},
   "outputs": [],
   "source": [
    "daywise.head()"
   ]
  },
  {
   "cell_type": "code",
   "execution_count": null,
   "metadata": {},
   "outputs": [],
   "source": [
    "fig_c = px.bar(daywise,x='Date',y='Confirmed',color_discrete_sequence=[act])\n",
    "fig_d = px.bar(daywise,x='Date',y='Confirmed',color_discrete_sequence=[dth])\n",
    "\n",
    "fig = make_subplots(rows=1,cols=2,shared_xaxes=False,horizontal_spacing=0.1,\n",
    "                   subplot_titles=('Confirmed Cases','Deaths Cases'))\n",
    "fig.add_trace(fig_c['data'][0],row=1,col=1)\n",
    "fig.add_trace(fig_d['data'][0],row=1,col=2)\n",
    "\n",
    "fig.update_layout(height=400)\n",
    "fig.show()"
   ]
  },
  {
   "cell_type": "markdown",
   "metadata": {},
   "source": [
    "# Confirmed and Death Cases with Static ColorMap"
   ]
  },
  {
   "cell_type": "code",
   "execution_count": null,
   "metadata": {},
   "outputs": [],
   "source": [
    "fig_c = px.choropleth(countrywise,locations='Country',locationmode='country names',\n",
    "                    color=np.log(countrywise['Confirmed']),hover_name='Country',\n",
    "                    hover_data=['Confirmed'])\n",
    "temp=countrywise[countrywise['Deaths']>0]\n",
    "fig_d = px.choropleth(temp,locations='Country',locationmode='country names',\n",
    "                    color=np.log(temp['Deaths']),hover_name='Country',\n",
    "                    hover_data=['Deaths'])\n",
    "fig = make_subplots(rows=1,cols=2,subplot_titles=['Confirmed','Deaths'],\n",
    "                   specs=[[{'type':'choropleth'},{'type':'choropleth'}]])\n",
    "fig.add_trace(fig_c['data'][0],row=1,col=1)\n",
    "fig.add_trace(fig_d['data'][0],row=1,col=2)\n",
    "fig.update(layout_coloraxis_showscale=False)\n",
    "\n",
    "fig.show()"
   ]
  },
  {
   "cell_type": "code",
   "execution_count": null,
   "metadata": {},
   "outputs": [],
   "source": [
    "fig1 = px.line(daywise,x='Date',y='Deaths / 100 Cases',color_discrete_sequence=[dth])\n",
    "fig2 = px.line(daywise,x='Date',y='Recovered / 100 Cases',color_discrete_sequence=[dth])\n",
    "fig3 = px.line(daywise,x='Date',y='Deaths / 100 Recovered',color_discrete_sequence=[dth])\n",
    "\n",
    "fig = make_subplots(rows=1,cols=3,shared_xaxes=False,\n",
    "                   subplot_titles=('Deaths / 100 Cases','Recovered / 100 Cases','Deaths / 100 Recovered'))\n",
    "\n",
    "fig.add_trace(fig1['data'][0],row=1,col=1)\n",
    "fig.add_trace(fig2['data'][0],row=1,col=2)\n",
    "fig.add_trace(fig3['data'][0],row=1,col=3)\n",
    "\n",
    "fig.update_layout(height=400)\n",
    "fig.show()"
   ]
  },
  {
   "cell_type": "markdown",
   "metadata": {},
   "source": [
    "# New Cases and No.of Countries"
   ]
  },
  {
   "cell_type": "code",
   "execution_count": null,
   "metadata": {},
   "outputs": [],
   "source": [
    "fig_c = px.bar(daywise,x='Date',y='Confirmed',color_discrete_sequence=[act])\n",
    "fig_d = px.bar(daywise,x='Date',y='No. of Countries',color_discrete_sequence=[dth])\n",
    "\n",
    "fig = make_subplots(rows=1,cols=2,shared_xaxes=False, horizontal_spacing=0.1,\n",
    "                   subplot_titles=('No. of New Cases per Day','No. of Countries'))\n",
    "fig.add_trace(fig_c['data'][0],row=1,col=1)\n",
    "fig.add_trace(fig_d['data'][0],row=1,col=2)\n",
    "fig.show()\n"
   ]
  },
  {
   "cell_type": "markdown",
   "metadata": {},
   "source": [
    "# Top 15 Countries Case Analysis"
   ]
  },
  {
   "cell_type": "code",
   "execution_count": null,
   "metadata": {},
   "outputs": [],
   "source": [
    "top = 15\n",
    "fig_c = px.bar(countrywise.sort_values('Confirmed').tail(top),x = 'Confirmed'\n",
    "              ,y='Country',text='Confirmed',orientation='h',\n",
    "               color_discrete_sequence=[cnf])\n",
    "fig_d = px.bar(countrywise.sort_values('Confirmed').tail(top),x = 'Confirmed'\n",
    "              ,y='Country',text='Deaths',orientation='h',\n",
    "               color_discrete_sequence=[dth]) \n",
    "\n",
    "fig_a = px.bar(countrywise.sort_values('Active').tail(top),x = 'Active'\n",
    "              ,y='Country',text='Active',orientation='h',\n",
    "               color_discrete_sequence=[act])\n",
    "fig_r = px.bar(countrywise.sort_values('Recovered').tail(top),x = 'Recovered'\n",
    "              ,y='Country',text='Recovered',orientation='h',\n",
    "               color_discrete_sequence=[rec]) \n",
    "fig_dc = px.bar(countrywise.sort_values('Deaths / 100 Cases').tail(top),x = 'Deaths / 100 Cases'\n",
    "              ,y='Country',text='Deaths / 100 Cases',orientation='h',\n",
    "               color_discrete_sequence=[rec]) \n",
    "fig_rc = px.bar(countrywise.sort_values('Recovered / 100 Cases').tail(top),x = 'Recovered / 100 Cases'\n",
    "              ,y='Country',text='Recovered / 100 Cases',orientation='h',\n",
    "               color_discrete_sequence=[rec]) \n",
    "\n",
    "fig = make_subplots(rows=5,cols=2,shared_xaxes=False,horizontal_spacing=0.25,\n",
    "                   vertical_spacing=.1,\n",
    "                   subplot_titles=('Confirmed Cases','Deaths Reported',\n",
    "                                   'Recovered Cases' ,'Active Cases',\n",
    "                                  'Deaths / 100 Cases','Recovered / 100 Cases'))\n",
    "\n",
    "fig.add_trace(fig_c['data'][0],row=1,col=1)\n",
    "fig.add_trace(fig_d['data'][0],row=1,col=2)\n",
    "fig.add_trace(fig_r['data'][0],row=2,col=1)\n",
    "fig.add_trace(fig_a['data'][0],row=2,col=2)\n",
    "fig.add_trace(fig_dc['data'][0],row=3,col=1)\n",
    "fig.add_trace(fig_rc['data'][0],row=3,col=2)\n",
    "fig.update_layout(height=3000)\n",
    "fig.show()\n",
    "\n"
   ]
  },
  {
   "cell_type": "markdown",
   "metadata": {},
   "source": [
    "# Scatter Plot for Deaths vs Confirmed Cases"
   ]
  },
  {
   "cell_type": "code",
   "execution_count": null,
   "metadata": {},
   "outputs": [],
   "source": [
    "top = 15\n",
    "fig = px.scatter(countrywise.sort_values('Deaths',ascending=False).head(top),\n",
    "                 x='Confirmed',y='Deaths',color='Country',size='Confirmed',\n",
    "                height=600,text='Country',log_x=True,title='Deaths vs Confirmed Cases')\n",
    "fig.update_traces(textposition='top center')\n",
    "fig.update_layout(showlegend=False)\n",
    "fig.update_layout(xaxis_rangeslider_visible=True)\n",
    "fig.show()"
   ]
  },
  {
   "cell_type": "markdown",
   "metadata": {},
   "source": [
    "# Confirmed,Deaths,New Cases vs Country and Date"
   ]
  },
  {
   "cell_type": "markdown",
   "metadata": {},
   "source": [
    "# Bar Plot"
   ]
  },
  {
   "cell_type": "code",
   "execution_count": null,
   "metadata": {},
   "outputs": [],
   "source": [
    "#fig = px.bar(country_daywise,x='Date',y='Confirmed',color='Country',height=600,\n",
    "            #title='Confirmed',color_discrete_sequence=px.colors.cyclical.mygbm)\n",
    "#fig.show()"
   ]
  },
  {
   "cell_type": "code",
   "execution_count": null,
   "metadata": {},
   "outputs": [],
   "source": [
    "gt_100 = country_daywise[country_daywise['Confirmed']>100]['Country'].unique()\n",
    "temp = df[df['Country'].isin(gt_100)]\n",
    "\n",
    "temp = temp.groupby(['Country','Date'])['Confirmed'].sum().reset_index()\n",
    "temp = temp[temp['Confirmed']>100]\n",
    "\n",
    "min_date = temp.groupby('Country')['Date'].min().reset_index()\n",
    "min_date.columns = ['Country','Min Date']\n",
    "min_date\n",
    "\n"
   ]
  },
  {
   "cell_type": "markdown",
   "metadata": {},
   "source": [
    "# Tree Map Analysis"
   ]
  },
  {
   "cell_type": "markdown",
   "metadata": {},
   "source": [
    "# Confirmed Cases"
   ]
  },
  {
   "cell_type": "code",
   "execution_count": null,
   "metadata": {},
   "outputs": [],
   "source": [
    "full_latest = df[df['Date']== max(df['Date'])]\n",
    "\n",
    "fig = px.treemap(full_latest.sort_values(by='Confirmed',ascending=False).reset_index\n",
    "                (drop=True),path=['Country','Province/State'],values='Confirmed',\n",
    "                height=700,title='Number of Confirmed Cases',\n",
    "                color_discrete_sequence=px.colors.qualitative.Dark2)\n",
    "fig.data[0].textinfo = 'label+text+value'\n",
    "fig.show()"
   ]
  },
  {
   "cell_type": "markdown",
   "metadata": {},
   "source": [
    "# Covid-19 vs Other Similar Epidemics"
   ]
  },
  {
   "cell_type": "code",
   "execution_count": null,
   "metadata": {},
   "outputs": [],
   "source": [
    "epidemics = pd.DataFrame({\n",
    "    'epidemic' : ['COVID-19', 'SARS', 'EBOLA', 'MERS', 'H1N1'],\n",
    "    'start_year' : [2019, 2002, 2013, 2012, 2009],\n",
    "    'end_year' : [2020, 2004, 2016, 2020, 2010],\n",
    "    'confirmed' : [full_latest['Confirmed'].sum(), 8422, 28646, 2519, 6724149],\n",
    "    'deaths' : [full_latest['Deaths'].sum(), 813, 11323, 866, 19654]\n",
    "})\n",
    "\n",
    "epidemics['mortality'] = round((epidemics['deaths']/epidemics['confirmed'])*100, 2)\n",
    "\n",
    "epidemics.head()"
   ]
  },
  {
   "cell_type": "code",
   "execution_count": null,
   "metadata": {},
   "outputs": [],
   "source": [
    "temp = epidemics.melt(id_vars='epidemic',value_vars=['confirmed','deaths','mortality'],\n",
    "                     var_name='Case',value_name='Value')\n",
    "fig = px.bar(temp,x='epidemic',y='Value',color='epidemic',text='Value',facet_col='Case',\n",
    "            color_discrete_sequence=px.colors.qualitative.Bold)\n",
    "\n",
    "fig.update_traces(textposition='outside')\n",
    "fig.update_layout(uniformtext_minsize=8,uniformtext_mode='hide')\n",
    "fig.update_yaxes(showticklabels=False)\n",
    "fig.layout.yaxis2.update(matches=None)\n",
    "fig.layout.yaxis3.update(matches=None)\n",
    "fig.show()"
   ]
  },
  {
   "cell_type": "code",
   "execution_count": null,
   "metadata": {},
   "outputs": [],
   "source": []
  },
  {
   "cell_type": "code",
   "execution_count": null,
   "metadata": {},
   "outputs": [],
   "source": []
  },
  {
   "cell_type": "code",
   "execution_count": null,
   "metadata": {},
   "outputs": [],
   "source": []
  },
  {
   "cell_type": "code",
   "execution_count": null,
   "metadata": {},
   "outputs": [],
   "source": []
  },
  {
   "cell_type": "code",
   "execution_count": null,
   "metadata": {},
   "outputs": [],
   "source": []
  },
  {
   "cell_type": "code",
   "execution_count": null,
   "metadata": {},
   "outputs": [],
   "source": []
  },
  {
   "cell_type": "code",
   "execution_count": null,
   "metadata": {},
   "outputs": [],
   "source": []
  },
  {
   "cell_type": "code",
   "execution_count": null,
   "metadata": {},
   "outputs": [],
   "source": []
  },
  {
   "cell_type": "code",
   "execution_count": null,
   "metadata": {},
   "outputs": [],
   "source": []
  },
  {
   "cell_type": "code",
   "execution_count": null,
   "metadata": {},
   "outputs": [],
   "source": []
  }
 ],
 "metadata": {
  "kernelspec": {
   "display_name": "Python 3",
   "language": "python",
   "name": "python3"
  },
  "language_info": {
   "codemirror_mode": {
    "name": "ipython",
    "version": 3
   },
   "file_extension": ".py",
   "mimetype": "text/x-python",
   "name": "python",
   "nbconvert_exporter": "python",
   "pygments_lexer": "ipython3",
   "version": "3.8.3"
  }
 },
 "nbformat": 4,
 "nbformat_minor": 4
}
